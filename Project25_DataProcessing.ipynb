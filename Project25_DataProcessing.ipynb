{
  "nbformat": 4,
  "nbformat_minor": 0,
  "metadata": {
    "colab": {
      "provenance": [],
      "authorship_tag": "ABX9TyMtQD2coAlmaSwwOyl6uJcg",
      "include_colab_link": true
    },
    "kernelspec": {
      "name": "python3",
      "display_name": "Python 3"
    },
    "language_info": {
      "name": "python"
    }
  },
  "cells": [
    {
      "cell_type": "markdown",
      "metadata": {
        "id": "view-in-github",
        "colab_type": "text"
      },
      "source": [
        "<a href=\"https://colab.research.google.com/github/AnikaPuri/Decoupling_GST_PublicInterest/blob/main/Project25_DataProcessing.ipynb\" target=\"_parent\"><img src=\"https://colab.research.google.com/assets/colab-badge.svg\" alt=\"Open In Colab\"/></a>"
      ]
    },
    {
      "cell_type": "code",
      "execution_count": null,
      "metadata": {
        "id": "JDwD4rlhDpu8"
      },
      "outputs": [],
      "source": [
        "#Import Google Drive and other libraries\n",
        "\n",
        "import pandas as pd\n",
        "import csv\n",
        "import numpy as np\n",
        "import matplotlib.pyplot as plt\n",
        "import os\n",
        "\n",
        "from google.colab import drive\n",
        "drive.mount('/content/drive')"
      ]
    },
    {
      "cell_type": "markdown",
      "source": [
        "# Processing COVID-19 Case Counts"
      ],
      "metadata": {
        "id": "7nQT1HWHERSo"
      }
    },
    {
      "cell_type": "code",
      "source": [
        "#Process COVID-19 Case Counts\n",
        "\n",
        "df_COVID_Cases_Deaths = pd.read_csv(\"/content/drive/MyDrive/C: Research/I: Boston Childrens Hospital/C: Project 25 (GST vs. MediaCloud)/Project 25/Analysis - June 2023/COVID-19 Case and Death Counts - Weekly/Weekly_United_States_COVID-19_Cases_and_Deaths_by_State.csv\")\n",
        "\n",
        "states = ['AK', 'AL', 'AR', 'AZ', 'CA', 'CO', 'CT', 'DE', 'FL', 'GA', 'HI', 'IA', 'ID', 'IL', 'IN', 'KS', 'KY', 'LA', 'MA', 'MD', 'ME', 'MI', 'MN', 'MO', 'MS', 'MT', 'NC', 'ND', 'NE', 'NH', 'NJ', 'NM', 'NV', 'NY', 'NYC', 'OH', 'OK', 'OR', 'PA', 'RI', 'SC', 'SD', 'TN', 'TX', 'UT', 'VA', 'VT', 'WA', 'WI', 'WV', 'WY']\n",
        "\n",
        "for s in states:\n",
        "  state_array = []\n",
        "  for row_num in range(len(df_COVID_Cases_Deaths)):\n",
        "    if (str(df_COVID_Cases_Deaths[\"state\"][row_num]) == s):\n",
        "      state_array.append([df_COVID_Cases_Deaths[\"date_updated\"][row_num], df_COVID_Cases_Deaths[\"state\"][row_num], df_COVID_Cases_Deaths[\"start_date\"][row_num], df_COVID_Cases_Deaths[\"end_date\"][row_num], df_COVID_Cases_Deaths[\"new_cases\"][row_num], df_COVID_Cases_Deaths[\"new_deaths\"][row_num]])\n",
        "\n",
        "  state_df = pd.DataFrame(np.array(state_array), columns=[\"date_updated\", \"state\", \"start_date\", \"end_date\", \"new_cases\", \"new_deaths\"])\n",
        "  name = \"COVID_Cases_Deaths_\" + s + \".csv\"\n",
        "  state_df.to_csv(name)"
      ],
      "metadata": {
        "id": "C1bqfZYPD-m1"
      },
      "execution_count": null,
      "outputs": []
    },
    {
      "cell_type": "code",
      "source": [
        "#Combined NY and NYC data to form NY\n",
        "states = ['AK','AL', 'AR', 'AZ', 'CA', 'CO', 'CT', 'DE', 'FL', 'GA', 'HI', 'IA', 'ID', 'IL', 'IN', 'KS', 'KY', 'LA', 'MA', 'MD', 'ME', 'MI', 'MN', 'MO', 'MS', 'MT', 'NC', 'ND', 'NE', 'NH', 'NJ', 'NM', 'NV', 'NY', 'OH', 'OK', 'OR', 'PA', 'RI', 'SC', 'SD', 'TN', 'TX', 'UT', 'VA', 'VT', 'WA', 'WI', 'WV', 'WY']\n",
        "\n",
        "#Adding all the States Together for US Data\n",
        "\n",
        "folder = \"/content/drive/MyDrive/C: Research/I: Boston Childrens Hospital/C: Project 25 (GST vs. MediaCloud)/Project 25/Analysis - June 2023/Processing Data/States - COVID-19 Case and Death Counts - Weekly/COVID_Cases_Deaths_\"\n",
        "\n",
        "df_first_state_AK = pd.read_csv(\"/content/drive/MyDrive/C: Research/I: Boston Childrens Hospital/C: Project 25 (GST vs. MediaCloud)/Project 25/Analysis - June 2023/Processing Data/States - COVID-19 Case and Death Counts - Weekly/COVID_Cases_Deaths_AK.csv\")\n",
        "state_cases_array = [0] * 173\n",
        "state_deaths_array = [0] * 173\n",
        "\n",
        "for s in states:\n",
        "  name = folder + s + \".csv\"\n",
        "\n",
        "  filename = pd.read_csv(name)\n",
        "\n",
        "  new_cases = (filename[\"new_cases\"])\n",
        "\n",
        "  print(\"new cases: \", s, new_cases)\n",
        "  int_new_cases = [int(new_cases[0])]\n",
        "  for x in new_cases[1:]:\n",
        "    if (type(x) == str):\n",
        "      if (x.find(\",\") != -1):\n",
        "        x = x.replace(\",\", \"\")\n",
        "\n",
        "    int_new_cases.append(int(x))\n",
        "  print(\"int new cases: \", s, int_new_cases)\n",
        "\n",
        "  state_cases_array = np.add(state_cases_array, int_new_cases)\n",
        "\n",
        "  new_deaths = (filename[\"new_deaths\"])\n",
        "\n",
        "  int_new_deaths = [int(new_deaths[0])]\n",
        "  for x in new_deaths[1:]:\n",
        "    if (type(x) == str):\n",
        "      if (x.find(\",\") != -1):\n",
        "        x = x.replace(\",\", \"\")\n",
        "\n",
        "    int_new_deaths.append(int(x))\n",
        "\n",
        "  state_deaths_array = np.add(state_deaths_array, int_new_deaths)\n",
        "\n",
        "\n",
        "\n",
        "data={'date_updated': df_first_state_AK[\"date_updated\"],'state': [\"US\"] * 173, 'start_date': df_first_state_AK[\"start_date\"],  'end_date': df_first_state_AK[\"end_date\"],  'new_cases': state_cases_array, 'new_deaths': state_deaths_array}\n",
        "\n",
        "df_us_case_death = pd.DataFrame(data)\n",
        "\n",
        "df_us_case_death.to_csv(\"COVID_Cases_Deaths_US.csv\")"
      ],
      "metadata": {
        "id": "M5SHn_3uEV82"
      },
      "execution_count": null,
      "outputs": []
    },
    {
      "cell_type": "code",
      "source": [
        "#Scaling Data from 0 to 100\n",
        "\n",
        "folder = \"/content/drive/MyDrive/C: Research/I: Boston Childrens Hospital/C: Project 25 (GST vs. MediaCloud)/Project 25/Analysis - June 2023/Processing Data/States - (Weekly) COVID-19 Case and Death Counts/COVID_Cases_Deaths_\"\n",
        "states = ['AK', 'AL', 'AR', 'AZ', 'CA', 'CO', 'CT', 'DE', 'FL', 'GA', 'HI', 'IA', 'ID', 'IL', 'IN', 'KS', 'KY', 'LA', 'MA', 'MD', 'ME', 'MI', 'MN', 'MO', 'MS', 'MT', 'NC', 'ND', 'NE', 'NH', 'NJ', 'NM', 'NV', 'NY', 'OH', 'OK', 'OR', 'PA', 'RI', 'SC', 'SD', 'TN', 'TX', 'UT', 'VA', 'VT', 'WA', 'WI', 'WV', 'WY', 'US']\n",
        "\n",
        "for s in states:\n",
        "  name = folder + s + \".csv\"\n",
        "\n",
        "  filename = pd.read_csv(name)\n",
        "\n",
        "  cases_array = filename[\"new_cases\"].array\n",
        "  new_cases = []\n",
        "\n",
        "  for i in cases_array:\n",
        "    element = i\n",
        "    if (type(element) == str):\n",
        "      if (element.find(\",\") != -1):\n",
        "        element = element.replace(\",\", \"\")\n",
        "    new_cases.append(int(element))\n",
        "\n",
        "  #print(new_cases)\n",
        "  max_cases = max(new_cases)\n",
        "  #print(max_cases)\n",
        "\n",
        "  new_cases_array = []\n",
        "  for element in new_cases:\n",
        "    new_element = (element/max_cases)*100\n",
        "    new_cases_array.append(new_element)\n",
        "\n",
        "  #print(new_cases_array)\n",
        "\n",
        "  deaths_array = filename[\"new_deaths\"].array\n",
        "  new_deaths = []\n",
        "\n",
        "  for i in deaths_array:\n",
        "    element = i\n",
        "    if (type(element) == str):\n",
        "      if (element.find(\",\") != -1):\n",
        "        element = element.replace(\",\", \"\")\n",
        "    new_deaths.append(int(element))\n",
        "\n",
        "  #print(new_deaths)\n",
        "  max_deaths = max(new_deaths)\n",
        "  #print(max_deaths)\n",
        "\n",
        "  new_deaths_array = []\n",
        "  for element in new_deaths:\n",
        "    new_element = (element/max_deaths)*100\n",
        "    new_deaths_array.append(new_element)\n",
        "\n",
        "  data={'date_updated': filename[\"date_updated\"],'state': filename[\"state\"], 'start_date': filename[\"start_date\"],  'end_date': filename[\"end_date\"],  'new_cases': new_cases_array, 'new_deaths': new_deaths_array}\n",
        "\n",
        "  df_0_100_case_death = pd.DataFrame(data)\n",
        "\n",
        "  os.makedirs('States - Normalized (both cases and deaths) COVID-19', exist_ok=True)\n",
        "  filename = \"States - Normalized (both cases and deaths) COVID-19/Normalized_COVID_Cases_Deaths_\" + s + \".csv\"\n",
        "\n",
        "  df_0_100_case_death.to_csv(filename)"
      ],
      "metadata": {
        "id": "NaI9I8MkEywA"
      },
      "execution_count": null,
      "outputs": []
    },
    {
      "cell_type": "markdown",
      "source": [
        "Final Data: https://drive.google.com/drive/folders/1U02ACkSD-4I5LayLilEXQgivKGxoMkW9?usp=drive_link"
      ],
      "metadata": {
        "id": "McIdGaP2FMbK"
      }
    },
    {
      "cell_type": "markdown",
      "source": [
        "# Collecting + Processing GST Data"
      ],
      "metadata": {
        "id": "WHvrDCGDFcyX"
      }
    },
    {
      "cell_type": "code",
      "source": [
        "import pandas as pd\n",
        "from pytrends.request import TrendReq\n",
        "from pytrends import dailydata\n",
        "import datetime as dt"
      ],
      "metadata": {
        "id": "C5SZSVjZFNmD"
      },
      "execution_count": null,
      "outputs": []
    },
    {
      "cell_type": "code",
      "source": [
        "pytrends = TrendReq()\n",
        "# pytrends = TrendReq(hl='en-US', tz=360, timeout=(10,25), proxies=['https://34.203.233.13:80',], retries=2, backoff_factor=0.1, requests_args={'verify':False})\n",
        "kw_list=['COVID + COVID-19 + coronavirus + nCoV']\n",
        "timespan = '2020-01-16 2023-05-10'"
      ],
      "metadata": {
        "id": "9ylbfSTdFkn3"
      },
      "execution_count": null,
      "outputs": []
    },
    {
      "cell_type": "code",
      "source": [
        "states = ['AK', 'AL', 'AR', 'AZ', 'CA', 'CO', 'CT', 'DE', 'FL', 'GA', 'HI', 'IA', 'ID', 'IL', 'IN', 'KS', 'KY', 'LA', 'MA', 'MD', 'ME', 'MI', 'MN', 'MO', 'MS', 'MT', 'NC', 'ND', 'NE', 'NH', 'NJ', 'NM', 'NV', 'NY', 'OH', 'OK', 'OR', 'PA', 'RI', 'SC', 'SD', 'TN', 'TX', 'UT', 'VA', 'VT', 'WA', 'WI', 'WV', 'WY']\n",
        "#get_daily_data(keyword,s_year,s_mon,e_year,e_mon,geo)\n",
        "keyword = 'COVID + COVID-19 + coronavirus + nCoV'\n",
        "s_year = 2020\n",
        "s_mon = 1\n",
        "e_year = 2023\n",
        "e_mon = 5\n",
        "\n",
        "for s in states:\n",
        "  geo = 'US-' + s\n",
        "  df=dailydata.get_daily_data(keyword,s_year,s_mon,e_year,e_mon,geo,verbose=False,wait_time=1.0)\n",
        "  csv_name = 'GST-Daily_' + s + '.csv'\n",
        "  df.to_csv(csv_name)"
      ],
      "metadata": {
        "id": "DnU08YenFnIM"
      },
      "execution_count": null,
      "outputs": []
    },
    {
      "cell_type": "code",
      "source": [
        "#Daily to Weekly Data: Average Every 7 Days\n",
        "\n",
        "folder = \"/content/drive/MyDrive/C: Research/I: Boston Childrens Hospital/C: Project 25 (GST vs. MediaCloud)/Project 25/Analysis - June 2023/Processing Data/States - (Daily) Google Search Trends Data/GST-Daily_\"\n",
        "\n",
        "states = ['AK', 'AL', 'AR', 'AZ', 'CA', 'CO', 'CT', 'DE', 'FL', 'GA', 'HI', 'IA', 'ID', 'IL', 'IN', 'KS', 'KY', 'LA', 'MA', 'MD', 'ME', 'MI', 'MN', 'MO', 'MS', 'MT', 'NC', 'ND', 'NE', 'NH', 'NJ', 'NM', 'NV', 'NY', 'OH', 'OK', 'OR', 'PA', 'RI', 'SC', 'SD', 'TN', 'TX', 'UT', 'VA', 'VT', 'WA', 'WI', 'WV', 'WY', 'US']\n",
        "\n",
        "for s in states:\n",
        "  name = folder + s + \".csv\"\n",
        "\n",
        "  filename = pd.read_csv(name)\n",
        "\n",
        "  df_gst_array = filename[\"COVID + COVID-19 + coronavirus + nCoV\"][15:1226]\n",
        "\n",
        "  #print(df_gst_array)\n",
        "\n",
        "  df_weekly_gst = df_gst_array.groupby(np.arange(len(df_gst_array))//7).mean()\n",
        "\n",
        "  df_weekly_gst_array = df_weekly_gst.to_numpy()\n",
        "\n",
        "  #print(df_weekly_gst_array)\n",
        "\n",
        "  df_dates = filename[\"date\"][15:1226]\n",
        "\n",
        "  #print(df_dates)\n",
        "\n",
        "  df_weekly_dates = df_dates[df_dates.index % 7 == 0]\n",
        "\n",
        "  df_weekly_dates_array = df_weekly_dates.to_numpy()\n",
        "\n",
        "  #print(df_weekly_dates)\n",
        "\n",
        "  df_new_weekly_gst_data = pd.DataFrame({'date': df_weekly_dates_array, 'COVID + COVID-19 + coronavirus + nCoV': df_weekly_gst_array})\n",
        "\n",
        "  print(df_new_weekly_gst_data)\n",
        "\n",
        "  filename = \"Weekly_GST-Daily_\" + s + \".csv\"\n",
        "\n",
        "  df_new_weekly_gst_data.to_csv(filename)\n"
      ],
      "metadata": {
        "id": "S5rEjT4BFySp"
      },
      "execution_count": null,
      "outputs": []
    },
    {
      "cell_type": "code",
      "source": [
        "#Scale Data 0 to 100\n",
        "\n",
        "folder = \"/content/drive/MyDrive/C: Research/I: Boston Childrens Hospital/C: Project 25 (GST vs. MediaCloud)/Project 25/Analysis - June 2023/Processing Data/States - (Daily) Google Search Trends Data/Weekly_GST-Daily_\"\n",
        "\n",
        "states = ['AK', 'AL', 'AR', 'AZ', 'CA', 'CO', 'CT', 'DE', 'FL', 'GA', 'HI', 'IA', 'ID', 'IL', 'IN', 'KS', 'KY', 'LA', 'MA', 'MD', 'ME', 'MI', 'MN', 'MO', 'MS', 'MT', 'NC', 'ND', 'NE', 'NH', 'NJ', 'NM', 'NV', 'NY', 'OH', 'OK', 'OR', 'PA', 'RI', 'SC', 'SD', 'TN', 'TX', 'UT', 'VA', 'VT', 'WA', 'WI', 'WV', 'WY', 'US']\n",
        "\n",
        "for s in states:\n",
        "  name = folder + s + \".csv\"\n",
        "\n",
        "  filename = pd.read_csv(name)\n",
        "\n",
        "  gst_array = filename[\"COVID + COVID-19 + coronavirus + nCoV\"]\n",
        "  #15: 2020-01-16\n",
        "  #1225: 2023-05-10\n",
        "\n",
        "  max_element = max(gst_array)\n",
        "  print(max_element)\n",
        "\n",
        "  new_gst_array = []\n",
        "  for element in gst_array:\n",
        "    new_element = (element/max_element)*100\n",
        "    new_gst_array.append(new_element)\n",
        "\n",
        "  #print(new_gst_array)\n",
        "\n",
        "  #print(new_gst_0_100)\n",
        "  #print(filename[\"date\"][15:1226])\n",
        "\n",
        "  df_new_gst_data = pd.DataFrame({'date': filename[\"date\"][15:1226], 'COVID + COVID-19 + coronavirus + nCoV': new_gst_array})\n",
        "  #print(df_new_gst_data)\n",
        "\n",
        "\n",
        "  filename = \"GST-Daily_\" + s + \".csv\"\n",
        "\n",
        "  filename_new = \"0_100-\" + filename\n",
        "  df_new_gst_data.to_csv(filename_new)"
      ],
      "metadata": {
        "id": "SQ5rHLXzF3Pa"
      },
      "execution_count": null,
      "outputs": []
    }
  ]
}